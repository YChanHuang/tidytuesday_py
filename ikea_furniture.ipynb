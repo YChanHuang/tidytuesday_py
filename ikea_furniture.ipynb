{
 "metadata": {
  "language_info": {
   "codemirror_mode": {
    "name": "ipython",
    "version": 3
   },
   "file_extension": ".py",
   "mimetype": "text/x-python",
   "name": "python",
   "nbconvert_exporter": "python",
   "pygments_lexer": "ipython3",
   "version": 3
  },
  "orig_nbformat": 2
 },
 "nbformat": 4,
 "nbformat_minor": 2,
 "cells": [
  {
   "source": [
    "# INPUT THE SUBJECT TITLE OF THE DATASET\n",
    "\n",
    "The data this week comes from [Ikea Furniture](https://raw.githubusercontent.com/rfordatascience/tidytuesday/master/data/2020/2020-11-03/ikea.csv). \n",
    "\n",
    "This [IKEA Furniture](https://github.com/YChanHuang/tidytuesday/blob/master/data/2020/2020-11-03/readme.md) talks about **IKEA Furniture** in greater detail.\n",
    "\n",
    "Credit: [kaggle](https://www.kaggle.com/ahmedkallam/ikea-sa-furniture-web-scraping)"
   ],
   "cell_type": "markdown",
   "metadata": {}
  },
  {
   "cell_type": "code",
   "execution_count": null,
   "metadata": {},
   "outputs": [],
   "source": [
    "# read the data\n",
    "data_url = 'https://raw.githubusercontent.com/rfordatascience/tidytuesday/master/data/2020/2020-11-03/ikea.csv'\n"
   ]
  }
 ]
}